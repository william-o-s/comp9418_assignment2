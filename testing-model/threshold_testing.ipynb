{
 "cells": [
  {
   "cell_type": "code",
   "execution_count": 1,
   "metadata": {},
   "outputs": [],
   "source": [
    "import re\n",
    "import numpy as np"
   ]
  },
  {
   "cell_type": "code",
   "execution_count": 2,
   "metadata": {},
   "outputs": [],
   "source": [
    "%%capture cap\n",
    "n_iter = 10\n",
    "for _ in range(n_iter):\n",
    "    %run -i example_test.py\n"
   ]
  },
  {
   "cell_type": "code",
   "execution_count": 3,
   "metadata": {},
   "outputs": [
    {
     "name": "stdout",
     "output_type": "stream",
     "text": [
      "Threshold: 0.8\n"
     ]
    },
    {
     "data": {
      "text/plain": [
       "80874.0"
      ]
     },
     "execution_count": 3,
     "metadata": {},
     "output_type": "execute_result"
    }
   ],
   "source": [
    "output = (cap.stdout).split('\\n')\n",
    "cents = []\n",
    "print(output[0])\n",
    "for out in output[1:-1]:\n",
    "    cents.append(int(re.search(r\"\\d+\", out).group()))\n",
    "\n",
    "np.mean(cents)"
   ]
  },
  {
   "cell_type": "code",
   "execution_count": null,
   "metadata": {},
   "outputs": [],
   "source": [
    "av_9thresh_data1train = 67258.4\n",
    "av_85thresh_data1train = 76455.3\n",
    "av_8thresh_data1train = 80874.0\n",
    "\n",
    "av_8thresh_data2train = 66819.0\n",
    "av_85thresh_data2train = 64549.9\n",
    "av_9thresh_data2train = 65490.3"
   ]
  },
  {
   "cell_type": "code",
   "execution_count": 20,
   "metadata": {},
   "outputs": [
    {
     "data": {
      "text/plain": [
       "['Total cost for the day: 67206 cents',\n",
       " 'Total cost for the day: 67207 cents',\n",
       " 'Total cost for the day: 67266 cents',\n",
       " 'Total cost for the day: 67249 cents',\n",
       " 'Total cost for the day: 67266 cents',\n",
       " 'Total cost for the day: 67261 cents',\n",
       " 'Total cost for the day: 67229 cents',\n",
       " 'Total cost for the day: 67270 cents',\n",
       " 'Total cost for the day: 67304 cents',\n",
       " 'Total cost for the day: 67278 cents',\n",
       " '']"
      ]
     },
     "execution_count": 20,
     "metadata": {},
     "output_type": "execute_result"
    }
   ],
   "source": [
    "output.split('\\n')"
   ]
  }
 ],
 "metadata": {
  "kernelspec": {
   "display_name": "comp9418",
   "language": "python",
   "name": "python3"
  },
  "language_info": {
   "codemirror_mode": {
    "name": "ipython",
    "version": 3
   },
   "file_extension": ".py",
   "mimetype": "text/x-python",
   "name": "python",
   "nbconvert_exporter": "python",
   "pygments_lexer": "ipython3",
   "version": "3.11.9"
  }
 },
 "nbformat": 4,
 "nbformat_minor": 2
}
