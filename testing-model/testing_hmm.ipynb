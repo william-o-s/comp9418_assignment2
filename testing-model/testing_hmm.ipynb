{
 "cells": [
  {
   "cell_type": "code",
   "execution_count": 2,
   "metadata": {},
   "outputs": [],
   "source": [
    "import os\n",
    "import wget\n",
    "import pandas as pd\n",
    "from collections import defaultdict"
   ]
  },
  {
   "cell_type": "code",
   "execution_count": 3,
   "metadata": {},
   "outputs": [],
   "source": [
    "if not os.path.exists(\"DiscreteFactors.py\"):\n",
    "    !wget 'https://raw.githubusercontent.com/UNSW-COMP9418/libraries/main/DiscreteFactors.py'\n",
    "if not os.path.exists(\"Graph.py\"):\n",
    "    !wget 'https://raw.githubusercontent.com/UNSW-COMP9418/libraries/main/Graph.py'\n",
    "if not os.path.exists(\"BayesNet_VE.py\"):\n",
    "    !wget 'https://raw.githubusercontent.com/UNSW-COMP9418/libraries/main/BayesNet_VE.py'    \n",
    "\n",
    "\n",
    "    "
   ]
  },
  {
   "cell_type": "code",
   "execution_count": 4,
   "metadata": {},
   "outputs": [],
   "source": [
    "from DiscreteFactors import Factor\n",
    "from Graph import Graph\n",
    "from BayesNet_VE import BayesNet\n",
    "from HiddenMarkovModel import HiddenMarkovModel"
   ]
  },
  {
   "cell_type": "code",
   "execution_count": 5,
   "metadata": {},
   "outputs": [],
   "source": [
    "training = pd.read_csv('data1.csv')\n"
   ]
  },
  {
   "cell_type": "code",
   "execution_count": 6,
   "metadata": {},
   "outputs": [
    {
     "data": {
      "text/plain": [
       "<bound method NDFrame.head of       Unnamed: 0 motion_sensor1 motion_sensor2 motion_sensor3 motion_sensor4  \\\n",
       "0              0      no motion      no motion      no motion      no motion   \n",
       "1              1      no motion         motion      no motion      no motion   \n",
       "2              2      no motion      no motion      no motion         motion   \n",
       "3              3      no motion         motion      no motion      no motion   \n",
       "4              4      no motion         motion      no motion      no motion   \n",
       "...          ...            ...            ...            ...            ...   \n",
       "2395        2395      no motion      no motion      no motion      no motion   \n",
       "2396        2396      no motion      no motion      no motion         motion   \n",
       "2397        2397      no motion         motion      no motion      no motion   \n",
       "2398        2398      no motion      no motion      no motion         motion   \n",
       "2399        2399      no motion      no motion      no motion      no motion   \n",
       "\n",
       "     motion_sensor5 motion_sensor6  camera1  camera2  camera3  ...  r28 r29  \\\n",
       "0            motion         motion        0        0        0  ...    0   0   \n",
       "1            motion      no motion        0        0        0  ...    0   0   \n",
       "2         no motion      no motion        0        0        0  ...    0   0   \n",
       "3         no motion      no motion        0        0        0  ...    0   0   \n",
       "4         no motion      no motion        0        0        0  ...    0   0   \n",
       "...             ...            ...      ...      ...      ...  ...  ...  ..   \n",
       "2395      no motion      no motion        0        0        0  ...    0   0   \n",
       "2396      no motion      no motion        0        0        0  ...    0   0   \n",
       "2397      no motion      no motion        0        0        0  ...    0   0   \n",
       "2398      no motion         motion        0        0        0  ...    0   0   \n",
       "2399      no motion      no motion        0        0        0  ...    0   0   \n",
       "\n",
       "     r30  r31  r32  r33  r34 c1  c2  outside  \n",
       "0      0    0    0    0    0  0   0       40  \n",
       "1      0    0    0    0    0  0   0       40  \n",
       "2      0    0    0    0    0  1   0       39  \n",
       "3      0    0    0    0    0  0   0       37  \n",
       "4      0    0    0    0    0  1   0       38  \n",
       "...   ..  ...  ...  ...  ... ..  ..      ...  \n",
       "2395   0    0    0    0    0  0   0       41  \n",
       "2396   0    0    0    0    0  0   0       41  \n",
       "2397   0    0    0    0    0  0   0       41  \n",
       "2398   0    0    0    0    0  0   0       41  \n",
       "2399   0    0    0    0    0  0   0       41  \n",
       "\n",
       "[2400 rows x 55 columns]>"
      ]
     },
     "execution_count": 6,
     "metadata": {},
     "output_type": "execute_result"
    }
   ],
   "source": [
    "training.head"
   ]
  },
  {
   "cell_type": "code",
   "execution_count": 7,
   "metadata": {},
   "outputs": [
    {
     "data": {
      "text/plain": [
       "Index(['Unnamed: 0', 'motion_sensor1', 'motion_sensor2', 'motion_sensor3',\n",
       "       'motion_sensor4', 'motion_sensor5', 'motion_sensor6', 'camera1',\n",
       "       'camera2', 'camera3', 'camera4', 'robot1', 'robot2', 'door_sensor1',\n",
       "       'door_sensor2', 'door_sensor3', 'door_sensor4', 'time', 'r1', 'r2',\n",
       "       'r3', 'r4', 'r5', 'r6', 'r7', 'r8', 'r9', 'r10', 'r11', 'r12', 'r13',\n",
       "       'r14', 'r15', 'r16', 'r17', 'r18', 'r19', 'r20', 'r21', 'r22', 'r23',\n",
       "       'r24', 'r25', 'r26', 'r27', 'r28', 'r29', 'r30', 'r31', 'r32', 'r33',\n",
       "       'r34', 'c1', 'c2', 'outside'],\n",
       "      dtype='object')"
      ]
     },
     "execution_count": 7,
     "metadata": {},
     "output_type": "execute_result"
    }
   ],
   "source": [
    "training.columns"
   ]
  },
  {
   "cell_type": "code",
   "execution_count": 8,
   "metadata": {},
   "outputs": [],
   "source": [
    "training_small = training[['r1', 'door_sensor1', 'motion_sensor1']]"
   ]
  },
  {
   "cell_type": "code",
   "execution_count": 9,
   "metadata": {},
   "outputs": [
    {
     "data": {
      "text/plain": [
       "Index(['motion_sensor1', 'motion_sensor2', 'motion_sensor3', 'motion_sensor4',\n",
       "       'motion_sensor5', 'motion_sensor6', 'camera1', 'camera2', 'camera3',\n",
       "       'camera4', 'robot1', 'robot2', 'door_sensor1', 'door_sensor2',\n",
       "       'door_sensor3', 'door_sensor4', 'time', 'r1', 'r2', 'r3', 'r4', 'r5',\n",
       "       'r6', 'r7', 'r8', 'r9', 'r10', 'r11', 'r12', 'r13', 'r14', 'r15', 'r16',\n",
       "       'r17', 'r18', 'r19', 'r20', 'r21', 'r22', 'r23', 'r24', 'r25', 'r26',\n",
       "       'r27', 'r28', 'r29', 'r30', 'r31', 'r32', 'r33', 'r34', 'c1', 'c2',\n",
       "       'outside'],\n",
       "      dtype='object')"
      ]
     },
     "execution_count": 9,
     "metadata": {},
     "output_type": "execute_result"
    }
   ],
   "source": [
    "training = training.drop('Unnamed: 0',axis = 1)\n",
    "training.columns"
   ]
  },
  {
   "cell_type": "code",
   "execution_count": 10,
   "metadata": {},
   "outputs": [],
   "source": [
    "def learn_outcome_space(data):\n",
    "    '''\n",
    "    Arguments:\n",
    "        data:    A pandas dataframe\n",
    "    Returns: \n",
    "        Nothing. Store the learned outcome space in self.outcomeSpace\n",
    "        \n",
    "    '''\n",
    "    outcomeSpace = {}\n",
    "    for column in list(data.columns):\n",
    "        values = list(data[column].unique())\n",
    "        outcomeSpace[column] = tuple(values)\n",
    "\n",
    "    return outcomeSpace"
   ]
  },
  {
   "cell_type": "code",
   "execution_count": 11,
   "metadata": {},
   "outputs": [],
   "source": [
    "outcomeSpace = learn_outcome_space(training_small)"
   ]
  },
  {
   "cell_type": "code",
   "execution_count": 12,
   "metadata": {},
   "outputs": [
    {
     "data": {
      "text/plain": [
       "{'r1': (0, 1, 2, 3, 7, 4, 5),\n",
       " 'door_sensor1': (0, 1, 2, 4, 3),\n",
       " 'motion_sensor1': ('no motion', 'motion')}"
      ]
     },
     "execution_count": 12,
     "metadata": {},
     "output_type": "execute_result"
    }
   ],
   "source": [
    "outcomeSpace"
   ]
  },
  {
   "cell_type": "code",
   "execution_count": 13,
   "metadata": {},
   "outputs": [
    {
     "data": {
      "text/plain": [
       "0       False\n",
       "1       False\n",
       "2       False\n",
       "3       False\n",
       "4       False\n",
       "        ...  \n",
       "2395    False\n",
       "2396    False\n",
       "2397    False\n",
       "2398    False\n",
       "2399    False\n",
       "Name: r1, Length: 2400, dtype: bool"
      ]
     },
     "execution_count": 13,
     "metadata": {},
     "output_type": "execute_result"
    }
   ],
   "source": [
    "training_small['r1']>0"
   ]
  },
  {
   "cell_type": "code",
   "execution_count": 14,
   "metadata": {},
   "outputs": [
    {
     "data": {
      "text/html": [
       "<div>\n",
       "<style scoped>\n",
       "    .dataframe tbody tr th:only-of-type {\n",
       "        vertical-align: middle;\n",
       "    }\n",
       "\n",
       "    .dataframe tbody tr th {\n",
       "        vertical-align: top;\n",
       "    }\n",
       "\n",
       "    .dataframe thead th {\n",
       "        text-align: right;\n",
       "    }\n",
       "</style>\n",
       "<table border=\"1\" class=\"dataframe\">\n",
       "  <thead>\n",
       "    <tr style=\"text-align: right;\">\n",
       "      <th></th>\n",
       "      <th>r1</th>\n",
       "      <th>door_sensor1</th>\n",
       "      <th>motion_sensor1</th>\n",
       "    </tr>\n",
       "  </thead>\n",
       "  <tbody>\n",
       "    <tr>\n",
       "      <th>62</th>\n",
       "      <td>1</td>\n",
       "      <td>0</td>\n",
       "      <td>motion</td>\n",
       "    </tr>\n",
       "    <tr>\n",
       "      <th>63</th>\n",
       "      <td>1</td>\n",
       "      <td>0</td>\n",
       "      <td>motion</td>\n",
       "    </tr>\n",
       "    <tr>\n",
       "      <th>64</th>\n",
       "      <td>1</td>\n",
       "      <td>0</td>\n",
       "      <td>motion</td>\n",
       "    </tr>\n",
       "    <tr>\n",
       "      <th>65</th>\n",
       "      <td>1</td>\n",
       "      <td>0</td>\n",
       "      <td>motion</td>\n",
       "    </tr>\n",
       "    <tr>\n",
       "      <th>66</th>\n",
       "      <td>1</td>\n",
       "      <td>0</td>\n",
       "      <td>motion</td>\n",
       "    </tr>\n",
       "    <tr>\n",
       "      <th>...</th>\n",
       "      <td>...</td>\n",
       "      <td>...</td>\n",
       "      <td>...</td>\n",
       "    </tr>\n",
       "    <tr>\n",
       "      <th>2236</th>\n",
       "      <td>1</td>\n",
       "      <td>0</td>\n",
       "      <td>motion</td>\n",
       "    </tr>\n",
       "    <tr>\n",
       "      <th>2237</th>\n",
       "      <td>1</td>\n",
       "      <td>0</td>\n",
       "      <td>motion</td>\n",
       "    </tr>\n",
       "    <tr>\n",
       "      <th>2238</th>\n",
       "      <td>1</td>\n",
       "      <td>0</td>\n",
       "      <td>motion</td>\n",
       "    </tr>\n",
       "    <tr>\n",
       "      <th>2239</th>\n",
       "      <td>1</td>\n",
       "      <td>0</td>\n",
       "      <td>motion</td>\n",
       "    </tr>\n",
       "    <tr>\n",
       "      <th>2240</th>\n",
       "      <td>1</td>\n",
       "      <td>0</td>\n",
       "      <td>motion</td>\n",
       "    </tr>\n",
       "  </tbody>\n",
       "</table>\n",
       "<p>1721 rows × 3 columns</p>\n",
       "</div>"
      ],
      "text/plain": [
       "      r1  door_sensor1 motion_sensor1\n",
       "62     1             0         motion\n",
       "63     1             0         motion\n",
       "64     1             0         motion\n",
       "65     1             0         motion\n",
       "66     1             0         motion\n",
       "...   ..           ...            ...\n",
       "2236   1             0         motion\n",
       "2237   1             0         motion\n",
       "2238   1             0         motion\n",
       "2239   1             0         motion\n",
       "2240   1             0         motion\n",
       "\n",
       "[1721 rows x 3 columns]"
      ]
     },
     "execution_count": 14,
     "metadata": {},
     "output_type": "execute_result"
    }
   ],
   "source": [
    "training_small[training_small['r1']>0]"
   ]
  },
  {
   "cell_type": "code",
   "execution_count": 15,
   "metadata": {},
   "outputs": [
    {
     "name": "stderr",
     "output_type": "stream",
     "text": [
      "/var/folders/j9/frkgv22j2m712ncxzqgzsn900000gn/T/ipykernel_24236/3478238970.py:1: FutureWarning: Setting an item of incompatible dtype is deprecated and will raise an error in a future version of pandas. Value 'on' has dtype incompatible with int64, please explicitly cast to a compatible dtype first.\n",
      "  training_small.loc[training_small['r1'] > 0, 'r1'] = 'on'\n"
     ]
    }
   ],
   "source": [
    "training_small.loc[training_small['r1'] > 0, 'r1'] = 'on'\n",
    "training_small.loc[training_small['r1'] == 0, 'r1'] = 'off'"
   ]
  },
  {
   "cell_type": "code",
   "execution_count": 16,
   "metadata": {},
   "outputs": [
    {
     "name": "stderr",
     "output_type": "stream",
     "text": [
      "/var/folders/j9/frkgv22j2m712ncxzqgzsn900000gn/T/ipykernel_24236/3172802551.py:1: FutureWarning: Setting an item of incompatible dtype is deprecated and will raise an error in a future version of pandas. Value 'door' has dtype incompatible with int64, please explicitly cast to a compatible dtype first.\n",
      "  training_small.loc[training_small['door_sensor1'] > 0, 'door_sensor1'] = 'door'\n"
     ]
    }
   ],
   "source": [
    "training_small.loc[training_small['door_sensor1'] > 0, 'door_sensor1'] = 'door'\n",
    "training_small.loc[training_small['door_sensor1'] == 0, 'door_sensor1'] = 'no door'"
   ]
  },
  {
   "cell_type": "code",
   "execution_count": 17,
   "metadata": {},
   "outputs": [
    {
     "data": {
      "text/plain": [
       "{'r1': ('off', 'on'),\n",
       " 'door_sensor1': ('no door', 'door'),\n",
       " 'motion_sensor1': ('no motion', 'motion')}"
      ]
     },
     "execution_count": 17,
     "metadata": {},
     "output_type": "execute_result"
    }
   ],
   "source": [
    "learn_outcome_space(training_small)"
   ]
  },
  {
   "cell_type": "code",
   "execution_count": 18,
   "metadata": {},
   "outputs": [
    {
     "data": {
      "text/plain": [
       "679"
      ]
     },
     "execution_count": 18,
     "metadata": {},
     "output_type": "execute_result"
    }
   ],
   "source": [
    "(training_small['r1']=='off').sum()"
   ]
  },
  {
   "cell_type": "code",
   "execution_count": 19,
   "metadata": {},
   "outputs": [
    {
     "data": {
      "text/plain": [
       "1721"
      ]
     },
     "execution_count": 19,
     "metadata": {},
     "output_type": "execute_result"
    }
   ],
   "source": [
    "(training_small['r1']=='on').sum()"
   ]
  },
  {
   "cell_type": "code",
   "execution_count": 20,
   "metadata": {},
   "outputs": [
    {
     "data": {
      "text/plain": [
       "2400"
      ]
     },
     "execution_count": 20,
     "metadata": {},
     "output_type": "execute_result"
    }
   ],
   "source": [
    "1721+679"
   ]
  },
  {
   "cell_type": "code",
   "execution_count": 21,
   "metadata": {},
   "outputs": [
    {
     "data": {
      "text/plain": [
       "0.7170833333333333"
      ]
     },
     "execution_count": 21,
     "metadata": {},
     "output_type": "execute_result"
    }
   ],
   "source": [
    "1721/2400"
   ]
  },
  {
   "cell_type": "code",
   "execution_count": 22,
   "metadata": {},
   "outputs": [
    {
     "data": {
      "text/plain": [
       "2400"
      ]
     },
     "execution_count": 22,
     "metadata": {},
     "output_type": "execute_result"
    }
   ],
   "source": [
    "len(training_small['r1'])"
   ]
  },
  {
   "cell_type": "code",
   "execution_count": 23,
   "metadata": {},
   "outputs": [],
   "source": [
    "transition_counts = defaultdict(int)\n",
    "\n",
    "for i in range (0, len(training_small['r1'])-1):\n",
    "    transition_counts[training_small['r1'][i],training_small['r1'][i+1]]+=1\n",
    "\n"
   ]
  },
  {
   "cell_type": "code",
   "execution_count": 24,
   "metadata": {},
   "outputs": [],
   "source": [
    "for key in transition_counts:\n",
    "    transition_counts[key]= transition_counts[key]/2400\n"
   ]
  },
  {
   "cell_type": "code",
   "execution_count": 25,
   "metadata": {},
   "outputs": [],
   "source": [
    "c = 0\n",
    "for key in transition_counts:\n",
    "    c+=transition_counts[key]"
   ]
  },
  {
   "cell_type": "code",
   "execution_count": 26,
   "metadata": {},
   "outputs": [
    {
     "data": {
      "text/html": [
       "<div>\n",
       "<style scoped>\n",
       "    .dataframe tbody tr th:only-of-type {\n",
       "        vertical-align: middle;\n",
       "    }\n",
       "\n",
       "    .dataframe tbody tr th {\n",
       "        vertical-align: top;\n",
       "    }\n",
       "\n",
       "    .dataframe thead th {\n",
       "        text-align: right;\n",
       "    }\n",
       "</style>\n",
       "<table border=\"1\" class=\"dataframe\">\n",
       "  <thead>\n",
       "    <tr style=\"text-align: right;\">\n",
       "      <th></th>\n",
       "      <th>r1</th>\n",
       "      <th>door_sensor1</th>\n",
       "      <th>motion_sensor1</th>\n",
       "    </tr>\n",
       "  </thead>\n",
       "  <tbody>\n",
       "    <tr>\n",
       "      <th>0</th>\n",
       "      <td>off</td>\n",
       "      <td>no door</td>\n",
       "      <td>no motion</td>\n",
       "    </tr>\n",
       "    <tr>\n",
       "      <th>1</th>\n",
       "      <td>off</td>\n",
       "      <td>no door</td>\n",
       "      <td>no motion</td>\n",
       "    </tr>\n",
       "    <tr>\n",
       "      <th>2</th>\n",
       "      <td>off</td>\n",
       "      <td>no door</td>\n",
       "      <td>no motion</td>\n",
       "    </tr>\n",
       "    <tr>\n",
       "      <th>3</th>\n",
       "      <td>off</td>\n",
       "      <td>no door</td>\n",
       "      <td>no motion</td>\n",
       "    </tr>\n",
       "    <tr>\n",
       "      <th>4</th>\n",
       "      <td>off</td>\n",
       "      <td>no door</td>\n",
       "      <td>no motion</td>\n",
       "    </tr>\n",
       "    <tr>\n",
       "      <th>...</th>\n",
       "      <td>...</td>\n",
       "      <td>...</td>\n",
       "      <td>...</td>\n",
       "    </tr>\n",
       "    <tr>\n",
       "      <th>2395</th>\n",
       "      <td>off</td>\n",
       "      <td>no door</td>\n",
       "      <td>no motion</td>\n",
       "    </tr>\n",
       "    <tr>\n",
       "      <th>2396</th>\n",
       "      <td>off</td>\n",
       "      <td>no door</td>\n",
       "      <td>no motion</td>\n",
       "    </tr>\n",
       "    <tr>\n",
       "      <th>2397</th>\n",
       "      <td>off</td>\n",
       "      <td>no door</td>\n",
       "      <td>no motion</td>\n",
       "    </tr>\n",
       "    <tr>\n",
       "      <th>2398</th>\n",
       "      <td>off</td>\n",
       "      <td>no door</td>\n",
       "      <td>no motion</td>\n",
       "    </tr>\n",
       "    <tr>\n",
       "      <th>2399</th>\n",
       "      <td>off</td>\n",
       "      <td>no door</td>\n",
       "      <td>no motion</td>\n",
       "    </tr>\n",
       "  </tbody>\n",
       "</table>\n",
       "<p>2400 rows × 3 columns</p>\n",
       "</div>"
      ],
      "text/plain": [
       "       r1 door_sensor1 motion_sensor1\n",
       "0     off      no door      no motion\n",
       "1     off      no door      no motion\n",
       "2     off      no door      no motion\n",
       "3     off      no door      no motion\n",
       "4     off      no door      no motion\n",
       "...   ...          ...            ...\n",
       "2395  off      no door      no motion\n",
       "2396  off      no door      no motion\n",
       "2397  off      no door      no motion\n",
       "2398  off      no door      no motion\n",
       "2399  off      no door      no motion\n",
       "\n",
       "[2400 rows x 3 columns]"
      ]
     },
     "execution_count": 26,
     "metadata": {},
     "output_type": "execute_result"
    }
   ],
   "source": [
    "training_small"
   ]
  },
  {
   "cell_type": "code",
   "execution_count": 27,
   "metadata": {},
   "outputs": [
    {
     "data": {
      "text/plain": [
       "0.6808333333333333"
      ]
     },
     "execution_count": 27,
     "metadata": {},
     "output_type": "execute_result"
    }
   ],
   "source": [
    "\n",
    "((training_small['r1']=='on') & (training_small['motion_sensor1']=='motion')).sum()/2400"
   ]
  },
  {
   "cell_type": "code",
   "execution_count": 28,
   "metadata": {},
   "outputs": [
    {
     "ename": "TypeError",
     "evalue": "can't multiply sequence by non-int of type 'list'",
     "output_type": "error",
     "traceback": [
      "\u001b[0;31m---------------------------------------------------------------------------\u001b[0m",
      "\u001b[0;31mTypeError\u001b[0m                                 Traceback (most recent call last)",
      "Cell \u001b[0;32mIn[28], line 1\u001b[0m\n\u001b[0;32m----> 1\u001b[0m \u001b[43m[\u001b[49m\u001b[38;5;124;43m'\u001b[39;49m\u001b[38;5;124;43mon\u001b[39;49m\u001b[38;5;124;43m'\u001b[39;49m\u001b[43m,\u001b[49m\u001b[38;5;124;43m'\u001b[39;49m\u001b[38;5;124;43moff\u001b[39;49m\u001b[38;5;124;43m'\u001b[39;49m\u001b[43m]\u001b[49m\u001b[38;5;241;43m*\u001b[39;49m\u001b[43m[\u001b[49m\u001b[38;5;124;43m'\u001b[39;49m\u001b[38;5;124;43mno motion\u001b[39;49m\u001b[38;5;124;43m'\u001b[39;49m\u001b[43m,\u001b[49m\u001b[43m \u001b[49m\u001b[38;5;124;43m'\u001b[39;49m\u001b[38;5;124;43mmotion\u001b[39;49m\u001b[38;5;124;43m'\u001b[39;49m\u001b[43m]\u001b[49m\n",
      "\u001b[0;31mTypeError\u001b[0m: can't multiply sequence by non-int of type 'list'"
     ]
    }
   ],
   "source": [
    "['on','off']*['no motion', 'motion']"
   ]
  },
  {
   "cell_type": "code",
   "execution_count": null,
   "metadata": {},
   "outputs": [],
   "source": [
    "outcomeSpace = {\n",
    "    'r1':('on','off'),\n",
    "    'r1_next':('on','off'),\n",
    "    'motion': ('no motion', 'motion'),\n",
    "    'door': ('no door', 'door')\n",
    "}\n",
    "r1Emission = Factor(('r1', 'motion', 'door'), outcomeSpace)\n",
    " \n",
    "# prob v1 given v2, v3\n",
    "for v1 in outcomeSpace['r1']:\n",
    "    for v2 in outcomeSpace['motion']:\n",
    "        for v3 in outcomeSpace['door']:\n",
    "            counts_v2v3 = ((training_small['motion_sensor1']==v2) & (training_small['door_sensor1']==v3)).sum()+2 #2 for smoothing\n",
    "            counts_all = ((training_small['r1']==v1) & (training_small['motion_sensor1']==v2) & (training_small['door_sensor1']==v3)).sum()+1\n",
    "            r1Emission[v1, v2,v3]= counts_all/counts_v2v3"
   ]
  },
  {
   "cell_type": "code",
   "execution_count": null,
   "metadata": {},
   "outputs": [
    {
     "name": "stdout",
     "output_type": "stream",
     "text": [
      "╒══════╤═══════════╤═════════╤═══════════╕\n",
      "│ r1   │ motion    │ door    │        Pr │\n",
      "╞══════╪═══════════╪═════════╪═══════════╡\n",
      "│ on   │ no motion │ no door │ 0.130363  │\n",
      "├──────┼───────────┼─────────┼───────────┤\n",
      "│ on   │ no motion │ door    │ 0.178571  │\n",
      "├──────┼───────────┼─────────┼───────────┤\n",
      "│ on   │ motion    │ no door │ 0.936548  │\n",
      "├──────┼───────────┼─────────┼───────────┤\n",
      "│ on   │ motion    │ door    │ 0.941176  │\n",
      "├──────┼───────────┼─────────┼───────────┤\n",
      "│ off  │ no motion │ no door │ 0.869637  │\n",
      "├──────┼───────────┼─────────┼───────────┤\n",
      "│ off  │ no motion │ door    │ 0.821429  │\n",
      "├──────┼───────────┼─────────┼───────────┤\n",
      "│ off  │ motion    │ no door │ 0.0634518 │\n",
      "├──────┼───────────┼─────────┼───────────┤\n",
      "│ off  │ motion    │ door    │ 0.0588235 │\n",
      "╘══════╧═══════════╧═════════╧═══════════╛\n",
      "\n"
     ]
    }
   ],
   "source": [
    "print(r1Emission)"
   ]
  },
  {
   "cell_type": "code",
   "execution_count": 29,
   "metadata": {},
   "outputs": [
    {
     "data": {
      "text/plain": [
       "2400"
      ]
     },
     "execution_count": 29,
     "metadata": {},
     "output_type": "execute_result"
    }
   ],
   "source": [
    "training_small.shape[0]"
   ]
  },
  {
   "cell_type": "code",
   "execution_count": 31,
   "metadata": {},
   "outputs": [
    {
     "name": "stdout",
     "output_type": "stream",
     "text": [
      "╒══════╤═══════════╕\n",
      "│ r1   │        Pr │\n",
      "╞══════╪═══════════╡\n",
      "│ on   │ 0.192713  │\n",
      "├──────┼───────────┤\n",
      "│ off  │ 0.0126702 │\n",
      "╘══════╧═══════════╛\n",
      "\n",
      "╒══════╤══════════╕\n",
      "│ r1   │       Pr │\n",
      "╞══════╪══════════╡\n",
      "│ on   │ 0.449947 │\n",
      "├──────┼──────────┤\n",
      "│ off  │ 0.362091 │\n",
      "╘══════╧══════════╛\n",
      "\n"
     ]
    }
   ],
   "source": [
    "##################\n",
    "# Test code\n",
    "\n",
    "# possible outcomes, by variable\n",
    "outcomeSpace = {\n",
    "    'r1':('on','off'),\n",
    "    'r1_next':('on','off'),\n",
    "    'motion': ('no motion', 'motion'),\n",
    "    'door': ('no door', 'door')\n",
    "}\n",
    "\n",
    "r1Start = Factor(('r1',), outcomeSpace)\n",
    "r1Start['off'] = (training_small['r1']=='on').sum()/training_small.shape[0]\n",
    "r1Start['on'] = (training_small['r1']=='off').sum()/training_small.shape[0]\n",
    "r1Transition = Factor(('r1', 'r1_next'), outcomeSpace)\n",
    "r1Transition['on', 'on'] = transition_counts[('on', 'on')]\n",
    "r1Transition['on', 'off'] = transition_counts[('on', 'off')]\n",
    "r1Transition['off', 'on'] = transition_counts[('off', 'on')]\n",
    "r1Transition['off', 'off'] = transition_counts[('off', 'off')]\n",
    "r1Emission = Factor(('r1', 'motion', 'door'), outcomeSpace)\n",
    " \n",
    "# prob v1 given v2, v3\n",
    "for v1 in outcomeSpace['r1']:\n",
    "    for v2 in outcomeSpace['motion']:\n",
    "        for v3 in outcomeSpace['door']:\n",
    "            counts_v2v3 = ((training_small['motion_sensor1']==v2) & (training_small['door_sensor1']==v3)).sum()+2 #2 for smoothing (hardcoded)\n",
    "            counts_all = ((training_small['r1']==v1) & (training_small['motion_sensor1']==v2) & (training_small['door_sensor1']==v3)).sum()+1\n",
    "            r1Emission[v1, v2,v3]= counts_all/counts_v2v3\n",
    "\n",
    "variable_remap = {\n",
    "    'r1_next': 'r1'\n",
    "}\n",
    "\n",
    "hmm = HiddenMarkovModel(r1Start, r1Transition,r1Emission, variable_remap)\n",
    "print(hmm.forward(motion='motion', door = 'no door'))\n",
    "\n",
    "hmm = HiddenMarkovModel(r1Start, r1Transition,r1Emission, variable_remap)\n",
    "print(hmm.forward())"
   ]
  },
  {
   "cell_type": "code",
   "execution_count": 40,
   "metadata": {},
   "outputs": [],
   "source": [
    "import numpy as np"
   ]
  },
  {
   "cell_type": "code",
   "execution_count": 41,
   "metadata": {},
   "outputs": [
    {
     "data": {
      "text/plain": [
       "0"
      ]
     },
     "execution_count": 41,
     "metadata": {},
     "output_type": "execute_result"
    }
   ],
   "source": [
    "factor = hmm.forward(motion='motion', door = 'no door')\n",
    "\n",
    "np.argmax([factor['on'], factor['off']])"
   ]
  },
  {
   "cell_type": "code",
   "execution_count": 43,
   "metadata": {},
   "outputs": [
    {
     "data": {
      "text/plain": [
       "0"
      ]
     },
     "execution_count": 43,
     "metadata": {},
     "output_type": "execute_result"
    }
   ],
   "source": [
    "factor.table.argmax()"
   ]
  },
  {
   "cell_type": "code",
   "execution_count": 90,
   "metadata": {},
   "outputs": [
    {
     "name": "stdout",
     "output_type": "stream",
     "text": [
      "Time:  0\n",
      "╒══════╤═══════════╕\n",
      "│ r1   │        Pr │\n",
      "╞══════╪═══════════╡\n",
      "│ on   │ 0.0185351 │\n",
      "├──────┼───────────┤\n",
      "│ off  │ 0.0197039 │\n",
      "╘══════╧═══════════╛\n",
      "\n",
      "\n",
      "Time:  1\n",
      "╒══════╤═════════════╕\n",
      "│ r1   │          Pr │\n",
      "╞══════╪═════════════╡\n",
      "│ on   │ 0.00905442  │\n",
      "├──────┼─────────────┤\n",
      "│ off  │ 0.000250135 │\n",
      "╘══════╧═════════════╛\n",
      "\n",
      "\n"
     ]
    }
   ],
   "source": [
    "hmm =  HiddenMarkovModel(r1Start, r1Transition,r1MotionEmission, variable_remap)\n",
    "timeLine = hmm.forwardBatch(2, motion=['no motion', 'motion'])\n",
    "for t in range(len(timeLine)):\n",
    "    print(\"Time: \", t)\n",
    "    print(timeLine[t])\n",
    "    print()"
   ]
  },
  {
   "cell_type": "code",
   "execution_count": 5,
   "metadata": {},
   "outputs": [
    {
     "name": "stdout",
     "output_type": "stream",
     "text": [
      "╒═══════════╤══════╕\n",
      "│ Weather   │   Pr │\n",
      "╞═══════════╪══════╡\n",
      "│ sun       │ 0.1  │\n",
      "├───────────┼──────┤\n",
      "│ rain      │ 0.45 │\n",
      "╘═══════════╧══════╛\n",
      "\n",
      "╒═══════════╤══════╕\n",
      "│ Weather   │   Pr │\n",
      "╞═══════════╪══════╡\n",
      "│ sun       │  0.5 │\n",
      "├───────────┼──────┤\n",
      "│ rain      │  0.5 │\n",
      "╘═══════════╧══════╛\n",
      "\n"
     ]
    }
   ],
   "source": [
    "##################\n",
    "# Test code\n",
    "\n",
    "# possible outcomes, by variable\n",
    "outcomeSpace = {\n",
    "    'Weather':('sun','rain'),\n",
    "    'Weather_next':('sun','rain'),\n",
    "    'Umbrella': ('umbrella', 'no_umbrella'),\n",
    "}\n",
    "\n",
    "weatherStart = Factor(('Weather',), outcomeSpace)\n",
    "weatherStart['sun'] = 0.5\n",
    "weatherStart['rain'] = 0.5\n",
    "weatherTransition = Factor(('Weather', 'Weather_next'), outcomeSpace)\n",
    "weatherTransition['sun', 'sun'] = 0.7\n",
    "weatherTransition['sun', 'rain'] = 0.3\n",
    "weatherTransition['rain', 'sun'] = 0.3\n",
    "weatherTransition['rain', 'rain'] = 0.7\n",
    "weatherEmission = Factor(('Weather', 'Umbrella'), outcomeSpace)\n",
    "weatherEmission['sun', 'umbrella'] = 0.2\n",
    "weatherEmission['sun', 'no_umbrella'] = 0.8\n",
    "weatherEmission['rain', 'umbrella'] = 0.9\n",
    "weatherEmission['rain', 'no_umbrella'] = 0.1\n",
    "\n",
    "variable_remap = {\n",
    "    'Weather_next': 'Weather'\n",
    "}\n",
    "\n",
    "hmm = HiddenMarkovModel(weatherStart, weatherTransition, weatherEmission, variable_remap)\n",
    "print(hmm.forward(Umbrella='umbrella'))\n",
    "\n",
    "hmm = HiddenMarkovModel(weatherStart, weatherTransition, weatherEmission, variable_remap)\n",
    "print(hmm.forward())"
   ]
  },
  {
   "cell_type": "code",
   "execution_count": 6,
   "metadata": {},
   "outputs": [
    {
     "name": "stdout",
     "output_type": "stream",
     "text": [
      "Time:  0\n",
      "╒═══════════╤══════╕\n",
      "│ Weather   │   Pr │\n",
      "╞═══════════╪══════╡\n",
      "│ sun       │ 0.1  │\n",
      "├───────────┼──────┤\n",
      "│ rain      │ 0.45 │\n",
      "╘═══════════╧══════╛\n",
      "\n",
      "\n",
      "Time:  1\n",
      "╒═══════════╤════════╕\n",
      "│ Weather   │     Pr │\n",
      "╞═══════════╪════════╡\n",
      "│ sun       │ 0.041  │\n",
      "├───────────┼────────┤\n",
      "│ rain      │ 0.3105 │\n",
      "╘═══════════╧════════╛\n",
      "\n",
      "\n"
     ]
    }
   ],
   "source": [
    "hmm = HiddenMarkovModel(weatherStart, weatherTransition, weatherEmission, variable_remap)\n",
    "timeLine = hmm.forwardBatch(2, Umbrella=['umbrella', 'umbrella'])\n",
    "for t in range(len(timeLine)):\n",
    "    print(\"Time: \", t)\n",
    "    print(timeLine[t])\n",
    "    print()"
   ]
  }
 ],
 "metadata": {
  "kernelspec": {
   "display_name": "base",
   "language": "python",
   "name": "python3"
  },
  "language_info": {
   "codemirror_mode": {
    "name": "ipython",
    "version": 3
   },
   "file_extension": ".py",
   "mimetype": "text/x-python",
   "name": "python",
   "nbconvert_exporter": "python",
   "pygments_lexer": "ipython3",
   "version": "3.11.9"
  }
 },
 "nbformat": 4,
 "nbformat_minor": 2
}
