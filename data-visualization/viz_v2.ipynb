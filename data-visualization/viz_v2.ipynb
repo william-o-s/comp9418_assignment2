{
 "cells": [
  {
   "cell_type": "code",
   "execution_count": 1,
   "metadata": {},
   "outputs": [],
   "source": [
    "import pandas as pd\n",
    "import numpy as np\n",
    "import matplotlib.pyplot as plt\n",
    "from datetime import datetime\n",
    "import re"
   ]
  },
  {
   "cell_type": "code",
   "execution_count": 2,
   "metadata": {},
   "outputs": [],
   "source": [
    "training = pd.read_csv('data1.csv')\n",
    "training = training.drop('Unnamed: 0', axis=1)"
   ]
  },
  {
   "cell_type": "code",
   "execution_count": 3,
   "metadata": {},
   "outputs": [
    {
     "data": {
      "text/plain": [
       "Index(['motion_sensor1', 'motion_sensor2', 'motion_sensor3', 'motion_sensor4',\n",
       "       'motion_sensor5', 'motion_sensor6', 'camera1', 'camera2', 'camera3',\n",
       "       'camera4', 'robot1', 'robot2', 'door_sensor1', 'door_sensor2',\n",
       "       'door_sensor3', 'door_sensor4', 'time', 'r1', 'r2', 'r3', 'r4', 'r5',\n",
       "       'r6', 'r7', 'r8', 'r9', 'r10', 'r11', 'r12', 'r13', 'r14', 'r15', 'r16',\n",
       "       'r17', 'r18', 'r19', 'r20', 'r21', 'r22', 'r23', 'r24', 'r25', 'r26',\n",
       "       'r27', 'r28', 'r29', 'r30', 'r31', 'r32', 'r33', 'r34', 'c1', 'c2',\n",
       "       'outside'],\n",
       "      dtype='object')"
      ]
     },
     "execution_count": 3,
     "metadata": {},
     "output_type": "execute_result"
    }
   ],
   "source": [
    "training.columns"
   ]
  },
  {
   "cell_type": "code",
   "execution_count": 4,
   "metadata": {},
   "outputs": [
    {
     "data": {
      "text/plain": [
       "np.int64(3075)"
      ]
     },
     "execution_count": 4,
     "metadata": {},
     "output_type": "execute_result"
    }
   ],
   "source": [
    "np.sum(training['r1'])"
   ]
  },
  {
   "cell_type": "code",
   "execution_count": 5,
   "metadata": {},
   "outputs": [],
   "source": [
    "total_inside = (training.iloc[:,17:-1]).sum(axis=1)\n"
   ]
  },
  {
   "cell_type": "code",
   "execution_count": 6,
   "metadata": {},
   "outputs": [],
   "source": [
    "#time = datetime.strptime(training['time'], '%H::%M::%S').time()\n",
    "\n",
    "seconds_of_day = []\n",
    "for time_str in training['time']:\n",
    "    time = datetime.strptime(time_str, '%H:%M:%S').time()\n",
    "    seconds_of_day.append((time.hour*60+time.minute)*60+time.second)"
   ]
  },
  {
   "cell_type": "code",
   "execution_count": 7,
   "metadata": {},
   "outputs": [
    {
     "data": {
      "image/png": "[encoded data removed]",
      "text/plain": [
       "<Figure size 640x480 with 1 Axes>"
      ]
     },
     "metadata": {},
     "output_type": "display_data"
    }
   ],
   "source": [
    "plt.plot(seconds_of_day, total_inside)\n",
    "plt.xlabel(\"Seconds of the day\")\n",
    "plt.ylabel(\"Total people inside\")\n",
    "\n",
    "plt.show()"
   ]
  },
  {
   "cell_type": "code",
   "execution_count": 10,
   "metadata": {},
   "outputs": [],
   "source": [
    "# training['total_people']= training[1]"
   ]
  },
  {
   "cell_type": "code",
   "execution_count": 11,
   "metadata": {},
   "outputs": [
    {
     "data": {
      "text/plain": [
       "np.int64(155)"
      ]
     },
     "execution_count": 11,
     "metadata": {},
     "output_type": "execute_result"
    }
   ],
   "source": [
    "((training['door_sensor1']>0)&(training['r2']>0)).sum()"
   ]
  },
  {
   "cell_type": "code",
   "execution_count": 12,
   "metadata": {},
   "outputs": [
    {
     "data": {
      "text/plain": [
       "np.int64(168)"
      ]
     },
     "execution_count": 12,
     "metadata": {},
     "output_type": "execute_result"
    }
   ],
   "source": [
    "((training['door_sensor1']>0)&(training['r1']>0)).sum()"
   ]
  },
  {
   "cell_type": "code",
   "execution_count": 13,
   "metadata": {},
   "outputs": [
    {
     "data": {
      "text/plain": [
       "np.int64(155)"
      ]
     },
     "execution_count": 13,
     "metadata": {},
     "output_type": "execute_result"
    }
   ],
   "source": [
    "((training['door_sensor1']>0)&(training['r12']>0)).sum()"
   ]
  },
  {
   "cell_type": "code",
   "execution_count": 14,
   "metadata": {},
   "outputs": [
    {
     "data": {
      "text/plain": [
       "np.int64(129)"
      ]
     },
     "execution_count": 14,
     "metadata": {},
     "output_type": "execute_result"
    }
   ],
   "source": [
    "((training['door_sensor1']>0)&(training['r34']>0)).sum()"
   ]
  },
  {
   "cell_type": "code",
   "execution_count": 15,
   "metadata": {},
   "outputs": [
    {
     "data": {
      "text/plain": [
       "np.int64(222)"
      ]
     },
     "execution_count": 15,
     "metadata": {},
     "output_type": "execute_result"
    }
   ],
   "source": [
    "(training['door_sensor1']>0).sum()"
   ]
  },
  {
   "cell_type": "code",
   "execution_count": 16,
   "metadata": {},
   "outputs": [
    {
     "name": "stdout",
     "output_type": "stream",
     "text": [
      "1087\n",
      "1386\n"
     ]
    }
   ],
   "source": [
    "print((training['r2']>0).sum())\n",
    "print((training['r3']>0).sum())"
   ]
  },
  {
   "cell_type": "code",
   "execution_count": 17,
   "metadata": {},
   "outputs": [
    {
     "data": {
      "text/plain": [
       "np.int64(186)"
      ]
     },
     "execution_count": 17,
     "metadata": {},
     "output_type": "execute_result"
    }
   ],
   "source": [
    "((training['door_sensor1']>0)&(training['r3']>0)).sum()"
   ]
  },
  {
   "cell_type": "code",
   "execution_count": 18,
   "metadata": {},
   "outputs": [
    {
     "data": {
      "text/plain": [
       "np.int64(563)"
      ]
     },
     "execution_count": 18,
     "metadata": {},
     "output_type": "execute_result"
    }
   ],
   "source": [
    "(training['r3']==1).sum()"
   ]
  },
  {
   "cell_type": "code",
   "execution_count": 19,
   "metadata": {},
   "outputs": [],
   "source": [
    "r3_forwardStep = training['r3'][1:]\n",
    "r3_forwardStep[2400]=0"
   ]
  },
  {
   "cell_type": "code",
   "execution_count": 20,
   "metadata": {},
   "outputs": [],
   "source": [
    "training_forward = training.shift(1)"
   ]
  },
  {
   "cell_type": "code",
   "execution_count": 21,
   "metadata": {},
   "outputs": [
    {
     "data": {
      "text/plain": [
       "np.int64(100)"
      ]
     },
     "execution_count": 21,
     "metadata": {},
     "output_type": "execute_result"
    }
   ],
   "source": [
    "((training_forward['r2']==1)&(training['r2']==0)).sum()"
   ]
  },
  {
   "cell_type": "code",
   "execution_count": 22,
   "metadata": {},
   "outputs": [
    {
     "data": {
      "text/plain": [
       "np.int64(60)"
      ]
     },
     "execution_count": 22,
     "metadata": {},
     "output_type": "execute_result"
    }
   ],
   "source": [
    "((training_forward['r2']==1)&(training['r2']==0)&(training['door_sensor1']>0)).sum()"
   ]
  },
  {
   "cell_type": "code",
   "execution_count": 23,
   "metadata": {},
   "outputs": [
    {
     "data": {
      "text/plain": [
       "np.float64(0.9494479953515398)"
      ]
     },
     "execution_count": 23,
     "metadata": {},
     "output_type": "execute_result"
    }
   ],
   "source": [
    "((training['r1']>0)&(training['motion_sensor1']=='motion')).sum()/(training['r1']>0).sum()"
   ]
  },
  {
   "cell_type": "markdown",
   "metadata": {},
   "source": [
    "# Looking at rooms 4,5 and 6"
   ]
  },
  {
   "cell_type": "markdown",
   "metadata": {},
   "source": [
    "Rooms 4,5 and 6 have no sensors and are all connected. Should we just treat them basically as one room for this? Is there any interesting interactions?"
   ]
  },
  {
   "cell_type": "code",
   "execution_count": 24,
   "metadata": {},
   "outputs": [],
   "source": [
    "def prob_from_room_to_room(original_room, next_room):\n",
    "    print(((training_forward[next_room]>0)&(training[original_room]>0)).sum()/((training[original_room]>0).sum()))"
   ]
  },
  {
   "cell_type": "code",
   "execution_count": 25,
   "metadata": {},
   "outputs": [
    {
     "name": "stdout",
     "output_type": "stream",
     "text": [
      "0.05272952853598015\n"
     ]
    }
   ],
   "source": [
    "prob_from_room_to_room('r6', 'r4')"
   ]
  },
  {
   "cell_type": "code",
   "execution_count": 26,
   "metadata": {},
   "outputs": [
    {
     "name": "stdout",
     "output_type": "stream",
     "text": [
      "0.9139784946236559\n"
     ]
    }
   ],
   "source": [
    "prob_from_room_to_room('r4', 'r6')"
   ]
  },
  {
   "cell_type": "code",
   "execution_count": 27,
   "metadata": {},
   "outputs": [
    {
     "name": "stdout",
     "output_type": "stream",
     "text": [
      "0.8329718004338394\n"
     ]
    }
   ],
   "source": [
    "prob_from_room_to_room('r5', 'r6')"
   ]
  },
  {
   "cell_type": "code",
   "execution_count": 28,
   "metadata": {},
   "outputs": [
    {
     "name": "stdout",
     "output_type": "stream",
     "text": [
      "0.23883374689826303\n"
     ]
    }
   ],
   "source": [
    "prob_from_room_to_room('r6', 'r5')"
   ]
  },
  {
   "cell_type": "markdown",
   "metadata": {},
   "source": [
    "Seems high probabilities in there - let's check out some other interactions:"
   ]
  },
  {
   "cell_type": "code",
   "execution_count": 29,
   "metadata": {},
   "outputs": [
    {
     "name": "stdout",
     "output_type": "stream",
     "text": [
      "0.5992292870905588\n",
      "0.670995670995671\n"
     ]
    }
   ],
   "source": [
    "prob_from_room_to_room('r12', 'r3')\n",
    "prob_from_room_to_room('r3', 'r12')"
   ]
  },
  {
   "cell_type": "code",
   "execution_count": 30,
   "metadata": {},
   "outputs": [
    {
     "name": "stdout",
     "output_type": "stream",
     "text": [
      "0.5101685066821615\n",
      "0.8068077276908924\n"
     ]
    }
   ],
   "source": [
    "prob_from_room_to_room('r1', 'r2')\n",
    "prob_from_room_to_room('r2', 'r1')"
   ]
  },
  {
   "cell_type": "markdown",
   "metadata": {},
   "source": [
    "We can also look at staying in a room with this code"
   ]
  },
  {
   "cell_type": "code",
   "execution_count": 31,
   "metadata": {},
   "outputs": [
    {
     "name": "stdout",
     "output_type": "stream",
     "text": [
      "0.9043238270469182\n",
      "0.9907030796048809\n",
      "0.7741935483870968\n"
     ]
    }
   ],
   "source": [
    "prob_from_room_to_room('r2', 'r2')\n",
    "prob_from_room_to_room('r1', 'r1')\n",
    "prob_from_room_to_room('r4', 'r4')"
   ]
  },
  {
   "cell_type": "code",
   "execution_count": 32,
   "metadata": {},
   "outputs": [
    {
     "name": "stdout",
     "output_type": "stream",
     "text": [
      "staying in r1\n",
      "0.9907030796048809\n",
      "staying in r2\n",
      "0.9043238270469182\n",
      "staying in r3\n",
      "0.9451659451659452\n",
      "staying in r4\n",
      "0.7741935483870968\n",
      "staying in r5\n",
      "0.9522776572668112\n",
      "staying in r6\n",
      "0.9851116625310173\n",
      "staying in r7\n",
      "0.9901417128773875\n",
      "staying in r8\n",
      "0.9649122807017544\n",
      "staying in r9\n",
      "0.9889415481832543\n",
      "staying in r10\n",
      "0.9919236417033774\n",
      "staying in r11\n",
      "0.991869918699187\n",
      "staying in r12\n",
      "0.9576107899807321\n",
      "staying in r13\n",
      "0.9916617033948779\n",
      "staying in r14\n",
      "0.7972222222222223\n",
      "staying in r15\n",
      "0.9936260623229461\n",
      "staying in r16\n",
      "0.9986589181940099\n",
      "staying in r17\n",
      "0.9888751545117429\n",
      "staying in r18\n",
      "0.9908508691674291\n",
      "staying in r19\n",
      "0.9806451612903225\n",
      "staying in r20\n",
      "0.7327102803738318\n",
      "staying in r21\n",
      "0.9882253994953742\n",
      "staying in r22\n",
      "0.6666666666666666\n",
      "staying in r23\n",
      "0.9926220204313281\n",
      "staying in r24\n",
      "0.978494623655914\n",
      "staying in r25\n",
      "0.9700765483646486\n",
      "staying in r26\n",
      "0.9642445213379469\n",
      "staying in r27\n",
      "0.27790432801822323\n",
      "staying in r28\n",
      "0.5286343612334802\n",
      "staying in r29\n",
      "0.9653815892997639\n",
      "staying in r30\n",
      "0.9278717720391808\n",
      "staying in r31\n",
      "0.9540441176470589\n",
      "staying in r32\n",
      "0.9956896551724138\n",
      "staying in r33\n",
      "0.3333333333333333\n",
      "staying in r34\n",
      "0.9822033898305085\n",
      "staying in c1\n",
      "0.6659192825112108\n",
      "staying in c2\n",
      "0.27806563039723664\n",
      "staying in outside\n",
      "0.9880418535127056\n"
     ]
    }
   ],
   "source": [
    "cols = training.iloc[:, 17:56].columns\n",
    "for name in cols:\n",
    "    print('staying in '+name)\n",
    "    prob_from_room_to_room(name,name)"
   ]
  },
  {
   "cell_type": "code",
   "execution_count": 33,
   "metadata": {},
   "outputs": [
    {
     "name": "stdout",
     "output_type": "stream",
     "text": [
      "0.642068564787914\n",
      "0.7922077922077922\n"
     ]
    }
   ],
   "source": [
    "prob_from_room_to_room('r1','r3')\n",
    "prob_from_room_to_room('r3','r1')"
   ]
  },
  {
   "cell_type": "markdown",
   "metadata": {},
   "source": [
    "This next one is almost a kappa test - if these probabilities are just high because people are usually in rooms. R1 and R25 are very far apart"
   ]
  },
  {
   "cell_type": "code",
   "execution_count": 34,
   "metadata": {},
   "outputs": [
    {
     "name": "stdout",
     "output_type": "stream",
     "text": [
      "0.8183716075156576\n"
     ]
    }
   ],
   "source": [
    "prob_from_room_to_room('r25','r1')"
   ]
  },
  {
   "cell_type": "markdown",
   "metadata": {},
   "source": [
    "We can see that the probability of someone being in room 25 after having been in room1 is very high - so maybe this kind of connection is pretty random?"
   ]
  },
  {
   "cell_type": "markdown",
   "metadata": {},
   "source": [
    "# prob staying 0"
   ]
  },
  {
   "cell_type": "code",
   "execution_count": 35,
   "metadata": {},
   "outputs": [
    {
     "name": "stdout",
     "output_type": "stream",
     "text": [
      "noone still in r1\n",
      "0.9749631811487481\n",
      "noone still in r2\n",
      "0.92003046458492\n",
      "noone still in r3\n",
      "0.9240631163708086\n",
      "noone still in r4\n",
      "0.9904638058084092\n",
      "noone still in r5\n",
      "0.9881382155750387\n",
      "noone still in r6\n",
      "0.9682741116751269\n",
      "noone still in r7\n",
      "0.9781209781209781\n",
      "noone still in r8\n",
      "0.992503748125937\n",
      "noone still in r9\n",
      "0.9867724867724867\n",
      "noone still in r10\n",
      "0.9884393063583815\n",
      "noone still in r11\n",
      "0.9905982905982906\n",
      "noone still in r12\n",
      "0.9205219454329775\n",
      "noone still in r13\n",
      "0.9791955617198336\n",
      "noone still in r14\n",
      "0.9125\n",
      "noone still in r15\n",
      "0.9898785425101214\n",
      "noone still in r16\n",
      "0.9754601226993865\n",
      "noone still in r17\n",
      "0.9937146448774355\n",
      "noone still in r18\n",
      "0.991583779648049\n",
      "noone still in r19\n",
      "0.9870748299319728\n",
      "noone still in r20\n",
      "0.9227882037533512\n",
      "noone still in r21\n",
      "0.9876135425268373\n",
      "noone still in r22\n",
      "0.9540066382171646\n",
      "noone still in r23\n",
      "0.9780564263322884\n",
      "noone still in r24\n",
      "0.9832970225127088\n",
      "noone still in r25\n",
      "0.9543094496365524\n",
      "noone still in r26\n",
      "0.9054054054054054\n",
      "noone still in r27\n",
      "0.8378378378378378\n",
      "noone still in r28\n",
      "0.9502991256327658\n",
      "noone still in r29\n",
      "0.9601417183348095\n",
      "noone still in r30\n",
      "0.9357870007830854\n",
      "noone still in r31\n",
      "0.9859913793103449\n",
      "noone still in r32\n",
      "0.9834558823529411\n",
      "noone still in r33\n",
      "0.9987484355444305\n",
      "noone still in r34\n",
      "0.9819672131147541\n",
      "noone still in c1\n",
      "0.8017241379310345\n",
      "noone still in c2\n",
      "0.7699066447007139\n",
      "noone still in outside\n",
      "0.9858757062146892\n"
     ]
    }
   ],
   "source": [
    "def prob0_from_room_to_room(original_room, next_room):\n",
    "    print(((training_forward[next_room]==0)&(training[original_room]==0)).sum()/((training[original_room]==0).sum()))\n",
    "\n",
    "cols = training.iloc[:, 17:56].columns\n",
    "for name in cols:\n",
    "    print('noone still in '+name)\n",
    "    prob0_from_room_to_room(name,name)"
   ]
  },
  {
   "cell_type": "markdown",
   "metadata": {},
   "source": [
    "# Checking accuracy of all sensors"
   ]
  },
  {
   "cell_type": "code",
   "execution_count": 36,
   "metadata": {},
   "outputs": [
    {
     "name": "stdout",
     "output_type": "stream",
     "text": [
      "0.9494479953515398\n",
      "0.925\n",
      "0.9172043010752688\n",
      "0.9251101321585903\n",
      "0.946498819826908\n",
      "0.9859913793103449\n"
     ]
    }
   ],
   "source": [
    "def check_accuracy_motion(room, motion_sensor):\n",
    "    print(((training[room]>0)&(training[motion_sensor]=='motion')).sum()/(training[room]>0).sum())\n",
    "\n",
    "\n",
    "room_nums = [1,14,19,28,29,32]\n",
    "\n",
    "for i in range(0,6):\n",
    "    room = 'r'+str(room_nums[i])\n",
    "    motions = 'motion_sensor'+str(i+1)\n",
    "    check_accuracy_motion(room,motions)\n",
    "\n"
   ]
  },
  {
   "cell_type": "code",
   "execution_count": 37,
   "metadata": {},
   "outputs": [
    {
     "name": "stdout",
     "output_type": "stream",
     "text": [
      "0.8409425625920471\n",
      "0.8523809523809524\n",
      "0.9013605442176871\n",
      "0.8656235618959963\n",
      "0.8839681133746679\n",
      "0.8511029411764706\n"
     ]
    }
   ],
   "source": [
    "def check0_accuracy_motion(room, motion_sensor):\n",
    "    print(((training[room]==0)&(training[motion_sensor]=='no motion')).sum()/(training[room]==0).sum())\n",
    "\n",
    "\n",
    "room_nums = [1,14,19,28,29,32]\n",
    "\n",
    "for i in range(0,6):\n",
    "    room = 'r'+str(room_nums[i])\n",
    "    motions = 'motion_sensor'+str(i+1)\n",
    "    check0_accuracy_motion(room,motions)\n"
   ]
  },
  {
   "cell_type": "code",
   "execution_count": 38,
   "metadata": {},
   "outputs": [
    {
     "name": "stdout",
     "output_type": "stream",
     "text": [
      "binary acc: 0.974025974025974\n",
      "exact acc: 0.96625\n",
      "exact acc if someones in: 0.9415584415584416\n",
      "acc of 0s: 1.0\n",
      "\n",
      "\n",
      "binary acc: 0.9671993271656855\n",
      "exact acc: 0.9783333333333334\n",
      "exact acc if someones in: 0.9562657695542472\n",
      "acc of 0s: 1.0\n",
      "\n",
      "\n",
      "binary acc: 0.9832985386221295\n",
      "exact acc: 0.975\n",
      "exact acc if someones in: 0.9582463465553236\n",
      "acc of 0s: 1.0\n",
      "\n",
      "\n",
      "binary acc: 0.9635593220338983\n",
      "exact acc: 0.9733333333333334\n",
      "exact acc if someones in: 0.9457627118644067\n",
      "acc of 0s: 1.0\n",
      "\n",
      "\n"
     ]
    }
   ],
   "source": [
    "def check_acc_camera(room, camera):\n",
    "    print('binary acc:', ((training[room]>0)&(training[camera]>0)).sum()/(training[room]>0).sum())\n",
    "    print('exact acc:',((training[room]==training[camera]).sum()/(training.shape[0])))\n",
    "    print('exact acc if someones in:',((((training[room]>0)&(training[room]==training[camera])).sum()/(training[room]>0).sum())))\n",
    "    print('acc of 0s:',((training[room]==0)&(training[camera]==0)).sum()/(training[room]==0).sum())\n",
    "\n",
    "    print('\\n')\n",
    "\n",
    "room_nums = [3,21,25,34]\n",
    "for i in range(0,4):\n",
    "    room = 'r'+str(room_nums[i])\n",
    "    camera = 'camera'+str(i+1)\n",
    "    check_acc_camera(room,camera)"
   ]
  },
  {
   "cell_type": "code",
   "execution_count": 39,
   "metadata": {},
   "outputs": [
    {
     "data": {
      "text/plain": [
       "\"('r5', 0)\""
      ]
     },
     "execution_count": 39,
     "metadata": {},
     "output_type": "execute_result"
    }
   ],
   "source": [
    "training['robot1'][0]"
   ]
  },
  {
   "cell_type": "code",
   "execution_count": 40,
   "metadata": {},
   "outputs": [
    {
     "data": {
      "text/plain": [
       "'r56'"
      ]
     },
     "execution_count": 40,
     "metadata": {},
     "output_type": "execute_result"
    }
   ],
   "source": [
    "txt = \"('r56', 78)\"\n",
    "re.search(\"(?<=')\\w+\", txt).group()"
   ]
  },
  {
   "cell_type": "code",
   "execution_count": 41,
   "metadata": {},
   "outputs": [
    {
     "data": {
      "text/plain": [
       "np.int64(0)"
      ]
     },
     "execution_count": 41,
     "metadata": {},
     "output_type": "execute_result"
    }
   ],
   "source": [
    "training['r1'][1]"
   ]
  },
  {
   "cell_type": "code",
   "execution_count": 47,
   "metadata": {},
   "outputs": [
    {
     "data": {
      "text/plain": [
       "0        (r5, 0)\n",
       "1        (r6, 0)\n",
       "2       (r14, 0)\n",
       "3        (r6, 0)\n",
       "4        (r6, 0)\n",
       "          ...   \n",
       "2395    (r20, 0)\n",
       "2396    (r20, 0)\n",
       "2397    (r26, 0)\n",
       "2398    (r27, 0)\n",
       "2399     (c1, 0)\n",
       "Name: robot1, Length: 2400, dtype: object"
      ]
     },
     "execution_count": 47,
     "metadata": {},
     "output_type": "execute_result"
    }
   ],
   "source": [
    "def extract_tuple(robot):\n",
    "    room = re.search(\"(?<=')\\w+\", robot).group()\n",
    "    count = re.search(\"(?<=\\s)\\d+\", robot).group()\n",
    "    return room, count\n",
    "\n",
    "robot1 = training['robot1']\n",
    "robot2 = training['robot2']\n",
    "rob1_acc = 0\n",
    "rob2_acc = 0\n",
    "for i in range(0,len(robot1)):\n",
    "    rob1 = robot1[i]\n",
    "    rob2 = robot2[i]\n",
    "    room_rob1 = re.search(\"(?<=')\\w+\", rob1).group()\n",
    "    room_rob2 = re.search(\"(?<=')\\w+\", rob2).group()\n",
    "    count_rob1 = re.search(\"(?<=\\s)\\d+\", rob1).group()\n",
    "    count_rob2 = re.search(\"(?<=\\s)\\d+\", rob2).group()\n",
    "    if (training[room_rob1][i]==int(count_rob1)):\n",
    "        rob1_acc+=1\n",
    "    if training[room_rob2][i]==int(count_rob2):\n",
    "        rob2_acc+=1\n",
    "\n",
    "training['robot1'].apply(extract_tuple)"
   ]
  },
  {
   "cell_type": "code",
   "execution_count": 43,
   "metadata": {},
   "outputs": [
    {
     "data": {
      "text/plain": [
       "2400"
      ]
     },
     "execution_count": 43,
     "metadata": {},
     "output_type": "execute_result"
    }
   ],
   "source": [
    "rob2_acc"
   ]
  }
 ],
 "metadata": {
  "kernelspec": {
   "display_name": "comp9418",
   "language": "python",
   "name": "python3"
  },
  "language_info": {
   "codemirror_mode": {
    "name": "ipython",
    "version": 3
   },
   "file_extension": ".py",
   "mimetype": "text/x-python",
   "name": "python",
   "nbconvert_exporter": "python",
   "pygments_lexer": "ipython3",
   "version": "3.10.12"
  }
 },
 "nbformat": 4,
 "nbformat_minor": 2
}
